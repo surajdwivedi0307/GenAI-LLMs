{
 "cells": [
  {
   "cell_type": "markdown",
   "metadata": {
    "id": "2-1Dou_EpUG-"
   },
   "source": [
    "# Boston House Price Prediction\n",
    "\n",
    "https://www.kaggle.com/c/boston-housing\n",
    "\n",
    "- CRIM - per capita crime rate by town\n",
    "- ZN - proportion of residential land zoned for lots over 25,000 sq.ft.\n",
    "- INDUS - proportion of non-retail business acres per town.\n",
    "- CHAS - Charles River dummy variable (1 if tract bounds river; 0 otherwise)\n",
    "- NOX - nitric oxides concentration (parts per 10 million)\n",
    "- RM - average number of rooms per dwelling\n",
    "- AGE - proportion of owner-occupied units built prior to 1940\n",
    "- DIS - weighted distances to five Boston employment centres\n",
    "- RAD - index of accessibility to radial highways\n",
    "- TAX - full-value property-tax rate per \\$10,000\n",
    "- PTRATIO - pupil-teacher ratio by town\n",
    "- B - 1000(Bk - 0.63)^2 where Bk is the proportion of blacks by town\n",
    "- LSTAT - percentage lower status of the population\n",
    "- MEDV - Median value of owner-occupied homes in $1000's"
   ]
  },
  {
   "cell_type": "markdown",
   "metadata": {
    "id": "DoE849Mnc2Gl"
   },
   "source": [
    "## Load the dataset"
   ]
  },
  {
   "cell_type": "code",
   "execution_count": null,
   "metadata": {
    "executionInfo": {
     "elapsed": 4,
     "status": "ok",
     "timestamp": 1682494168228,
     "user": {
      "displayName": "MANARANJAN PRADHAN",
      "userId": "03885802779803335284"
     },
     "user_tz": -330
    },
    "id": "B1wKYxI5pUHD"
   },
   "outputs": [],
   "source": [
    "import warnings\n",
    "warnings.filterwarnings('ignore')"
   ]
  },
  {
   "cell_type": "code",
   "execution_count": null,
   "metadata": {
    "executionInfo": {
     "elapsed": 540,
     "status": "ok",
     "timestamp": 1682494168765,
     "user": {
      "displayName": "MANARANJAN PRADHAN",
      "userId": "03885802779803335284"
     },
     "user_tz": -330
    },
    "id": "S5qqu9zCpUHO"
   },
   "outputs": [],
   "source": [
    "import pandas as pd\n",
    "import numpy as np"
   ]
  },
  {
   "cell_type": "code",
   "execution_count": null,
   "metadata": {
    "executionInfo": {
     "elapsed": 9,
     "status": "ok",
     "timestamp": 1682494168766,
     "user": {
      "displayName": "MANARANJAN PRADHAN",
      "userId": "03885802779803335284"
     },
     "user_tz": -330
    },
    "id": "OUfKELWZpUHO"
   },
   "outputs": [],
   "source": [
    "boston_df = pd.read_csv('https://raw.githubusercontent.com/manaranjanp/GenAI_LLM/main/DLIntro/boston.csv')"
   ]
  },
  {
   "cell_type": "code",
   "execution_count": null,
   "metadata": {
    "colab": {
     "base_uri": "https://localhost:8080/",
     "height": 206
    },
    "executionInfo": {
     "elapsed": 9,
     "status": "ok",
     "timestamp": 1682494168767,
     "user": {
      "displayName": "MANARANJAN PRADHAN",
      "userId": "03885802779803335284"
     },
     "user_tz": -330
    },
    "id": "GIf7_Ms0pUHP",
    "outputId": "3d2033f1-724a-4193-e7f6-e761f3667401"
   },
   "outputs": [],
   "source": [
    "boston_df.head(5)"
   ]
  },
  {
   "cell_type": "code",
   "execution_count": null,
   "metadata": {
    "colab": {
     "base_uri": "https://localhost:8080/"
    },
    "executionInfo": {
     "elapsed": 12,
     "status": "ok",
     "timestamp": 1682494169656,
     "user": {
      "displayName": "MANARANJAN PRADHAN",
      "userId": "03885802779803335284"
     },
     "user_tz": -330
    },
    "id": "flte9DtwpUHQ",
    "outputId": "6722ac3d-4168-4963-aa1d-f171bc1ade95"
   },
   "outputs": [],
   "source": [
    "boston_df.info()"
   ]
  },
  {
   "cell_type": "markdown",
   "metadata": {
    "id": "oVblHrWqpUHQ"
   },
   "source": [
    "### Set X and Y Variables"
   ]
  },
  {
   "cell_type": "code",
   "execution_count": null,
   "metadata": {
    "colab": {
     "base_uri": "https://localhost:8080/"
    },
    "executionInfo": {
     "elapsed": 12,
     "status": "ok",
     "timestamp": 1682494169657,
     "user": {
      "displayName": "MANARANJAN PRADHAN",
      "userId": "03885802779803335284"
     },
     "user_tz": -330
    },
    "id": "UvROJKlOpUHR",
    "outputId": "7562f7ce-0666-4a9b-bc64-270887873e75"
   },
   "outputs": [],
   "source": [
    "boston_df.columns"
   ]
  },
  {
   "cell_type": "code",
   "execution_count": null,
   "metadata": {
    "executionInfo": {
     "elapsed": 9,
     "status": "ok",
     "timestamp": 1682494169657,
     "user": {
      "displayName": "MANARANJAN PRADHAN",
      "userId": "03885802779803335284"
     },
     "user_tz": -330
    },
    "id": "y3ClLYm_pUHS"
   },
   "outputs": [],
   "source": [
    "X = np.array(boston_df[['crim', 'zn', 'indus', 'chas', \n",
    "                        'nox', 'rm', 'age', 'dis', 'rad',\n",
    "                        'tax', 'ptratio', 'black', 'lstat']])"
   ]
  },
  {
   "cell_type": "code",
   "execution_count": null,
   "metadata": {
    "executionInfo": {
     "elapsed": 10,
     "status": "ok",
     "timestamp": 1682494169658,
     "user": {
      "displayName": "MANARANJAN PRADHAN",
      "userId": "03885802779803335284"
     },
     "user_tz": -330
    },
    "id": "OF9IFsDUpUHS"
   },
   "outputs": [],
   "source": [
    "Y = np.array(boston_df.medv)"
   ]
  },
  {
   "cell_type": "code",
   "execution_count": null,
   "metadata": {
    "colab": {
     "base_uri": "https://localhost:8080/"
    },
    "executionInfo": {
     "elapsed": 10,
     "status": "ok",
     "timestamp": 1682494169658,
     "user": {
      "displayName": "MANARANJAN PRADHAN",
      "userId": "03885802779803335284"
     },
     "user_tz": -330
    },
    "id": "NNf4RIowpUHT",
    "outputId": "f9502041-43c3-4ed8-b7b1-7be17bd8ee79"
   },
   "outputs": [],
   "source": [
    "X.shape"
   ]
  },
  {
   "cell_type": "code",
   "execution_count": null,
   "metadata": {
    "colab": {
     "base_uri": "https://localhost:8080/"
    },
    "executionInfo": {
     "elapsed": 8,
     "status": "ok",
     "timestamp": 1682494169658,
     "user": {
      "displayName": "MANARANJAN PRADHAN",
      "userId": "03885802779803335284"
     },
     "user_tz": -330
    },
    "id": "ZSRekitOpUHT",
    "outputId": "afbdb0ff-aab8-4846-bdee-b0324a6f2f8a"
   },
   "outputs": [],
   "source": [
    "Y.shape"
   ]
  },
  {
   "cell_type": "markdown",
   "metadata": {
    "id": "6I0wUZBGpUHU"
   },
   "source": [
    "## Split dataset into train and test"
   ]
  },
  {
   "cell_type": "code",
   "execution_count": null,
   "metadata": {
    "executionInfo": {
     "elapsed": 345,
     "status": "ok",
     "timestamp": 1682494169996,
     "user": {
      "displayName": "MANARANJAN PRADHAN",
      "userId": "03885802779803335284"
     },
     "user_tz": -330
    },
    "id": "jdt-ExLFpUHU"
   },
   "outputs": [],
   "source": [
    "from sklearn.model_selection import train_test_split"
   ]
  },
  {
   "cell_type": "code",
   "execution_count": null,
   "metadata": {
    "executionInfo": {
     "elapsed": 8,
     "status": "ok",
     "timestamp": 1682494169996,
     "user": {
      "displayName": "MANARANJAN PRADHAN",
      "userId": "03885802779803335284"
     },
     "user_tz": -330
    },
    "id": "E5k7p5oSpUHU"
   },
   "outputs": [],
   "source": [
    "train_X, test_X, train_y, test_y = train_test_split( X, Y, test_size = 0.2)"
   ]
  },
  {
   "cell_type": "code",
   "execution_count": null,
   "metadata": {
    "colab": {
     "base_uri": "https://localhost:8080/"
    },
    "executionInfo": {
     "elapsed": 7,
     "status": "ok",
     "timestamp": 1682494169996,
     "user": {
      "displayName": "MANARANJAN PRADHAN",
      "userId": "03885802779803335284"
     },
     "user_tz": -330
    },
    "id": "XztH1ubZpUHV",
    "outputId": "30432fdf-e226-404c-cceb-9adebd68229d"
   },
   "outputs": [],
   "source": [
    "train_X.shape"
   ]
  },
  {
   "cell_type": "code",
   "execution_count": null,
   "metadata": {
    "colab": {
     "base_uri": "https://localhost:8080/"
    },
    "executionInfo": {
     "elapsed": 6,
     "status": "ok",
     "timestamp": 1682494169997,
     "user": {
      "displayName": "MANARANJAN PRADHAN",
      "userId": "03885802779803335284"
     },
     "user_tz": -330
    },
    "id": "iE4n8hS4pUHV",
    "outputId": "f2cc2550-2917-4a4e-d07a-843844a23d0a"
   },
   "outputs": [],
   "source": [
    "test_X.shape"
   ]
  },
  {
   "cell_type": "markdown",
   "metadata": {
    "id": "_z8OQhmwpUHW"
   },
   "source": [
    "### Normalize data"
   ]
  },
  {
   "cell_type": "markdown",
   "metadata": {
    "id": "UPxPE3CGpUHW"
   },
   "source": [
    "All variables need to be normalized to bring them onto one scale. To scale we can use standardization technique, which is subtracting mean and dividing by standard deviation.\n",
    "\n",
    "The train and test data need to be normalized based on mean and std of training dataset, as the NN parameters will be estimated based on the training dataset."
   ]
  },
  {
   "cell_type": "code",
   "execution_count": null,
   "metadata": {
    "executionInfo": {
     "elapsed": 4,
     "status": "ok",
     "timestamp": 1682494169997,
     "user": {
      "displayName": "MANARANJAN PRADHAN",
      "userId": "03885802779803335284"
     },
     "user_tz": -330
    },
    "id": "pr5q1beppUHW"
   },
   "outputs": [],
   "source": [
    "## Calculate meand std from the training dataset\n",
    "mean = train_X.mean(axis=0)\n",
    "std = train_X.std(axis=0)\n",
    "\n",
    "## Standardizing the training dataset\n",
    "train_X -= mean\n",
    "train_X /= std\n",
    "\n",
    "## Standardizing the test dataset\n",
    "test_X -= mean\n",
    "test_X /= std"
   ]
  },
  {
   "cell_type": "markdown",
   "metadata": {
    "id": "etXWJ1anpUHX"
   },
   "source": [
    "## Build NN Model\n",
    "\n",
    "Explain:\n",
    "\n",
    "1. NN Architecture\n",
    "2. Layers and Neurons\n",
    "3. Activation Functions \n",
    "4. Loss Function\n",
    "5. Backpropagation \n",
    "6. Gradient Descent and variations of Gradient Descent\n",
    "\n",
    "### Model 1:"
   ]
  },
  {
   "cell_type": "code",
   "execution_count": null,
   "metadata": {
    "executionInfo": {
     "elapsed": 4,
     "status": "ok",
     "timestamp": 1682494181463,
     "user": {
      "displayName": "MANARANJAN PRADHAN",
      "userId": "03885802779803335284"
     },
     "user_tz": -330
    },
    "id": "r2wLpFgOpUHX"
   },
   "outputs": [],
   "source": [
    "import tensorflow as tf\n",
    "from tensorflow import keras\n",
    "from keras import models\n",
    "from keras.layers import Dense, Activation\n",
    "from keras.optimizers import SGD"
   ]
  },
  {
   "cell_type": "code",
   "execution_count": null,
   "metadata": {
    "colab": {
     "base_uri": "https://localhost:8080/",
     "height": 35
    },
    "executionInfo": {
     "elapsed": 4,
     "status": "ok",
     "timestamp": 1682494181464,
     "user": {
      "displayName": "MANARANJAN PRADHAN",
      "userId": "03885802779803335284"
     },
     "user_tz": -330
    },
    "id": "nWEKqc7_6GFr",
    "outputId": "507caa3f-9b78-4ea1-8213-02dd4b2015a9"
   },
   "outputs": [],
   "source": [
    "tf.__version__"
   ]
  },
  {
   "cell_type": "code",
   "execution_count": null,
   "metadata": {
    "executionInfo": {
     "elapsed": 563,
     "status": "ok",
     "timestamp": 1682494182453,
     "user": {
      "displayName": "MANARANJAN PRADHAN",
      "userId": "03885802779803335284"
     },
     "user_tz": -330
    },
    "id": "3d4n_nlnpUHY"
   },
   "outputs": [],
   "source": [
    "model = models.Sequential()\n",
    "\n",
    "model.add(Dense(64, input_shape=(train_X.shape[1],)))\n",
    "\n",
    "model.add(Activation('relu'))\n",
    "\n",
    "model.add(Dense(64))\n",
    "model.add(Activation('relu'))\n",
    "\n",
    "model.add(Dense(1))"
   ]
  },
  {
   "cell_type": "code",
   "execution_count": null,
   "metadata": {
    "colab": {
     "base_uri": "https://localhost:8080/"
    },
    "executionInfo": {
     "elapsed": 12,
     "status": "ok",
     "timestamp": 1682494182454,
     "user": {
      "displayName": "MANARANJAN PRADHAN",
      "userId": "03885802779803335284"
     },
     "user_tz": -330
    },
    "id": "qkHPv-qypUHZ",
    "outputId": "7277b371-bc67-42c2-a8bf-21b5d2593abf"
   },
   "outputs": [],
   "source": [
    "model.summary()"
   ]
  },
  {
   "cell_type": "code",
   "execution_count": null,
   "metadata": {
    "executionInfo": {
     "elapsed": 5,
     "status": "ok",
     "timestamp": 1682494183942,
     "user": {
      "displayName": "MANARANJAN PRADHAN",
      "userId": "03885802779803335284"
     },
     "user_tz": -330
    },
    "id": "RVdBtiHupUHZ"
   },
   "outputs": [],
   "source": [
    "model.compile(optimizer=\"sgd\", \n",
    "              loss='mse', \n",
    "              metrics=['mse'])"
   ]
  },
  {
   "cell_type": "markdown",
   "metadata": {
    "id": "Pr8gGaaopUHZ"
   },
   "source": [
    "**EPOCH** - an ENTIRE dataset is passed forward and backward through the neural network only ONCE.\n",
    "\n",
    "**BATCH SIZE** - Total number of training examples present in a single batch. The backpropagation algorithms updates the weights after each batch size operation.\n",
    "\n",
    "Usually the validation metrics are measured at the end of each epoch to measure progress of the learning in the neural network. (If it is underfitting or overfitting)"
   ]
  },
  {
   "cell_type": "code",
   "execution_count": null,
   "metadata": {
    "executionInfo": {
     "elapsed": 2,
     "status": "ok",
     "timestamp": 1682494184383,
     "user": {
      "displayName": "MANARANJAN PRADHAN",
      "userId": "03885802779803335284"
     },
     "user_tz": -330
    },
    "id": "Yed0HElUpUHa"
   },
   "outputs": [],
   "source": [
    "EPOCHS = 30\n",
    "## BATCH_SIZE"
   ]
  },
  {
   "cell_type": "markdown",
   "metadata": {
    "id": "XgYu7oXIpUHa"
   },
   "source": [
    "Explain how data would be taken in batches and run multiple epochs."
   ]
  },
  {
   "cell_type": "code",
   "execution_count": null,
   "metadata": {
    "colab": {
     "base_uri": "https://localhost:8080/"
    },
    "executionInfo": {
     "elapsed": 3489,
     "status": "ok",
     "timestamp": 1682494188261,
     "user": {
      "displayName": "MANARANJAN PRADHAN",
      "userId": "03885802779803335284"
     },
     "user_tz": -330
    },
    "id": "3uKVys33pUHa",
    "outputId": "ee955263-5cad-40b5-8d05-870be4965cf4"
   },
   "outputs": [],
   "source": [
    "%%time\n",
    "history = model.fit(\n",
    "    train_X, \n",
    "    train_y,  # prepared data\n",
    "    epochs=EPOCHS,\n",
    "    validation_data=(test_X, test_y),\n",
    "    verbose=1\n",
    ")"
   ]
  },
  {
   "cell_type": "code",
   "execution_count": null,
   "metadata": {
    "executionInfo": {
     "elapsed": 13,
     "status": "ok",
     "timestamp": 1682494188261,
     "user": {
      "displayName": "MANARANJAN PRADHAN",
      "userId": "03885802779803335284"
     },
     "user_tz": -330
    },
    "id": "4bkbWFx9pUHa"
   },
   "outputs": [],
   "source": [
    "from sklearn.metrics import mean_squared_error\n",
    "import matplotlib.pyplot as plt\n",
    "import seaborn as sn\n",
    "%matplotlib inline"
   ]
  },
  {
   "cell_type": "code",
   "execution_count": null,
   "metadata": {
    "colab": {
     "base_uri": "https://localhost:8080/"
    },
    "executionInfo": {
     "elapsed": 3,
     "status": "ok",
     "timestamp": 1682494197315,
     "user": {
      "displayName": "MANARANJAN PRADHAN",
      "userId": "03885802779803335284"
     },
     "user_tz": -330
    },
    "id": "QU8ookqRpUHb",
    "outputId": "b6a706af-2c35-4fcd-9007-eccf8c7b9ae3"
   },
   "outputs": [],
   "source": [
    "history.history.keys()"
   ]
  },
  {
   "cell_type": "code",
   "execution_count": null,
   "metadata": {
    "executionInfo": {
     "elapsed": 2,
     "status": "ok",
     "timestamp": 1682494197315,
     "user": {
      "displayName": "MANARANJAN PRADHAN",
      "userId": "03885802779803335284"
     },
     "user_tz": -330
    },
    "id": "E7e6qaY2pUHb"
   },
   "outputs": [],
   "source": [
    "def plot_mse(hist):\n",
    "    plt.plot(hist['mse'])\n",
    "    plt.plot(hist['val_mse'])\n",
    "    plt.title('MSE')\n",
    "    plt.ylabel('mse')\n",
    "    plt.xlabel('epoch')\n",
    "    plt.legend(['train', \n",
    "                'test'], \n",
    "               loc='upper left')\n",
    "    plt.show()\n",
    "    \n",
    "def plot_loss(hist):\n",
    "    plt.plot(hist['loss'])\n",
    "    plt.plot(hist['val_loss'])\n",
    "    plt.title('model loss')\n",
    "    plt.ylabel('loss')\n",
    "    plt.xlabel('epoch')\n",
    "    plt.legend(['train', \n",
    "                'test'], \n",
    "               loc='upper left')\n",
    "    plt.show()    "
   ]
  },
  {
   "cell_type": "code",
   "execution_count": null,
   "metadata": {
    "colab": {
     "base_uri": "https://localhost:8080/",
     "height": 927
    },
    "executionInfo": {
     "elapsed": 1405,
     "status": "ok",
     "timestamp": 1682494199032,
     "user": {
      "displayName": "MANARANJAN PRADHAN",
      "userId": "03885802779803335284"
     },
     "user_tz": -330
    },
    "id": "_EeDfqR0pUHc",
    "outputId": "4ed0d121-99e5-4611-c13b-259ca7e62b51"
   },
   "outputs": [],
   "source": [
    "plot_mse(history.history)\n",
    "plot_loss(history.history)"
   ]
  },
  {
   "cell_type": "markdown",
   "metadata": {
    "id": "-2NJl6h7pUHc"
   },
   "source": [
    "The loss is diverging. The leanring rate is high.\n",
    "\n",
    "- Explain learning Rate"
   ]
  },
  {
   "cell_type": "markdown",
   "metadata": {
    "id": "O_UOKX8xpUHc"
   },
   "source": [
    "### Model 2: With Lower Learning Rate"
   ]
  },
  {
   "cell_type": "code",
   "execution_count": null,
   "metadata": {
    "executionInfo": {
     "elapsed": 324,
     "status": "ok",
     "timestamp": 1682494234573,
     "user": {
      "displayName": "MANARANJAN PRADHAN",
      "userId": "03885802779803335284"
     },
     "user_tz": -330
    },
    "id": "wH6j6a4ZpUHc"
   },
   "outputs": [],
   "source": [
    "tf.keras.backend.clear_session()\n",
    "\n",
    "model = models.Sequential()\n",
    "\n",
    "model.add(Dense(64, input_shape=(train_X.shape[1],)))\n",
    "\n",
    "model.add(Activation('relu'))\n",
    "\n",
    "model.add(Dense(64))\n",
    "model.add(Activation('relu'))\n",
    "\n",
    "model.add(Dense(1))"
   ]
  },
  {
   "cell_type": "code",
   "execution_count": null,
   "metadata": {
    "executionInfo": {
     "elapsed": 2,
     "status": "ok",
     "timestamp": 1682494236236,
     "user": {
      "displayName": "MANARANJAN PRADHAN",
      "userId": "03885802779803335284"
     },
     "user_tz": -330
    },
    "id": "bfIb_9QlpUHd"
   },
   "outputs": [],
   "source": [
    "sgd = SGD(learning_rate=0.001)\n",
    "model.compile(optimizer=sgd, loss='mse', metrics=['mse'])"
   ]
  },
  {
   "cell_type": "code",
   "execution_count": null,
   "metadata": {
    "colab": {
     "base_uri": "https://localhost:8080/"
    },
    "executionInfo": {
     "elapsed": 8072,
     "status": "ok",
     "timestamp": 1682494245732,
     "user": {
      "displayName": "MANARANJAN PRADHAN",
      "userId": "03885802779803335284"
     },
     "user_tz": -330
    },
    "id": "5bD_nqcTpUHd",
    "outputId": "f87c51db-9edf-42d0-fe5e-784d489a7ef4"
   },
   "outputs": [],
   "source": [
    "%%time\n",
    "\n",
    "EPOCHS = 100\n",
    "\n",
    "history = model.fit(\n",
    "    train_X, \n",
    "    train_y,  # prepared data\n",
    "    epochs=EPOCHS,\n",
    "    validation_data=(test_X, test_y),\n",
    ")"
   ]
  },
  {
   "cell_type": "code",
   "execution_count": null,
   "metadata": {
    "colab": {
     "base_uri": "https://localhost:8080/",
     "height": 927
    },
    "executionInfo": {
     "elapsed": 1475,
     "status": "ok",
     "timestamp": 1682494247205,
     "user": {
      "displayName": "MANARANJAN PRADHAN",
      "userId": "03885802779803335284"
     },
     "user_tz": -330
    },
    "id": "QwzsV84wpUHd",
    "outputId": "dcf484b2-37c4-4640-e69b-b250a4aebddf"
   },
   "outputs": [],
   "source": [
    "plot_mse(history.history)\n",
    "plot_loss(history.history)"
   ]
  },
  {
   "cell_type": "markdown",
   "metadata": {
    "id": "ZXsoRQglJUGF"
   },
   "source": [
    "## Participant Exercise: 1\n",
    "\n",
    "1. Change the activation functions to a) sigmoid and b) tanh and build the model\n",
    "2. Add more neurons to the model\n",
    "3. Add model layers to the model\n",
    "\n",
    "Print the model summary and validation loss from the last epoch."
   ]
  },
  {
   "cell_type": "markdown",
   "metadata": {
    "id": "s1gizujApUHf"
   },
   "source": [
    "### Model Prediction and Measure Accuracy"
   ]
  },
  {
   "cell_type": "code",
   "execution_count": null,
   "metadata": {
    "colab": {
     "base_uri": "https://localhost:8080/"
    },
    "executionInfo": {
     "elapsed": 3,
     "status": "ok",
     "timestamp": 1682328586206,
     "user": {
      "displayName": "MANARANJAN PRADHAN",
      "userId": "03885802779803335284"
     },
     "user_tz": -330
    },
    "id": "f_ZVtWlrpUHf",
    "outputId": "cd106889-3ccf-44af-c076-c5bc36381ba9"
   },
   "outputs": [],
   "source": [
    "pred_y = model.predict(test_X)"
   ]
  },
  {
   "cell_type": "code",
   "execution_count": null,
   "metadata": {
    "colab": {
     "base_uri": "https://localhost:8080/"
    },
    "executionInfo": {
     "elapsed": 2,
     "status": "ok",
     "timestamp": 1682328586651,
     "user": {
      "displayName": "MANARANJAN PRADHAN",
      "userId": "03885802779803335284"
     },
     "user_tz": -330
    },
    "id": "39q6b1XxpUHf",
    "outputId": "2e50609b-7b6c-4416-f7c4-b236065024ad"
   },
   "outputs": [],
   "source": [
    "np.sqrt(metrics.mean_squared_error( test_y, pred_y )) "
   ]
  },
  {
   "cell_type": "markdown",
   "metadata": {
    "id": "678Ovr34eOqY"
   },
   "source": [
    "## Using Callbacks"
   ]
  },
  {
   "cell_type": "code",
   "execution_count": null,
   "metadata": {
    "executionInfo": {
     "elapsed": 3,
     "status": "ok",
     "timestamp": 1682494337764,
     "user": {
      "displayName": "MANARANJAN PRADHAN",
      "userId": "03885802779803335284"
     },
     "user_tz": -330
    },
    "id": "43SAEh5Reddo"
   },
   "outputs": [],
   "source": [
    "from keras.callbacks import ReduceLROnPlateau, EarlyStopping, ModelCheckpoint"
   ]
  },
  {
   "cell_type": "code",
   "execution_count": null,
   "metadata": {
    "executionInfo": {
     "elapsed": 418,
     "status": "ok",
     "timestamp": 1682494413134,
     "user": {
      "displayName": "MANARANJAN PRADHAN",
      "userId": "03885802779803335284"
     },
     "user_tz": -330
    },
    "id": "s6rb8aOgyfwK"
   },
   "outputs": [],
   "source": [
    "callbacks_list = [ReduceLROnPlateau(monitor='val_loss',\n",
    "                                    factor=0.1, \n",
    "                                    patience=3),\n",
    "                  EarlyStopping(monitor='val_loss',\n",
    "                                patience=6),\n",
    "                  ModelCheckpoint(filepath='boston_house_model.h5',\n",
    "                                  save_format='tf',\n",
    "                                  monitor='val_loss',\n",
    "                                  save_best_only=True)]"
   ]
  },
  {
   "cell_type": "code",
   "execution_count": null,
   "metadata": {
    "executionInfo": {
     "elapsed": 7068,
     "status": "ok",
     "timestamp": 1682494420728,
     "user": {
      "displayName": "MANARANJAN PRADHAN",
      "userId": "03885802779803335284"
     },
     "user_tz": -330
    },
    "id": "pjCVdHZ3eQW5"
   },
   "outputs": [],
   "source": [
    "tf.keras.backend.clear_session()\n",
    "\n",
    "model = models.Sequential()\n",
    "\n",
    "model.add(Dense(64, input_shape=(train_X.shape[1],)))\n",
    "\n",
    "model.add(Activation('relu'))\n",
    "\n",
    "model.add(Dense(64))\n",
    "model.add(Activation('relu'))\n",
    "\n",
    "model.add(Dense(1))"
   ]
  },
  {
   "cell_type": "code",
   "execution_count": null,
   "metadata": {
    "executionInfo": {
     "elapsed": 3,
     "status": "ok",
     "timestamp": 1682494420729,
     "user": {
      "displayName": "MANARANJAN PRADHAN",
      "userId": "03885802779803335284"
     },
     "user_tz": -330
    },
    "id": "NJEHYtkPeVqJ"
   },
   "outputs": [],
   "source": [
    "sgd = SGD(learning_rate=0.005)\n",
    "model.compile(optimizer=sgd, loss='mse', metrics=['mse'])"
   ]
  },
  {
   "cell_type": "code",
   "execution_count": null,
   "metadata": {
    "colab": {
     "base_uri": "https://localhost:8080/"
    },
    "executionInfo": {
     "elapsed": 3257,
     "status": "ok",
     "timestamp": 1682494423983,
     "user": {
      "displayName": "MANARANJAN PRADHAN",
      "userId": "03885802779803335284"
     },
     "user_tz": -330
    },
    "id": "WVS7Xp-deYwB",
    "outputId": "261fd95f-0063-4b7d-c79e-df79c9b2ce9d"
   },
   "outputs": [],
   "source": [
    "%%time\n",
    "\n",
    "EPOCHS = 100\n",
    "\n",
    "history = model.fit(\n",
    "    train_X, \n",
    "    train_y,  # prepared data\n",
    "    epochs=EPOCHS,\n",
    "    callbacks = callbacks_list,\n",
    "    validation_data=(test_X, test_y),\n",
    ")"
   ]
  },
  {
   "cell_type": "code",
   "execution_count": null,
   "metadata": {
    "colab": {
     "base_uri": "https://localhost:8080/",
     "height": 927
    },
    "executionInfo": {
     "elapsed": 1065,
     "status": "ok",
     "timestamp": 1682494444059,
     "user": {
      "displayName": "MANARANJAN PRADHAN",
      "userId": "03885802779803335284"
     },
     "user_tz": -330
    },
    "id": "68lglgiCe8BY",
    "outputId": "0eef4d73-dfc5-48d6-bc77-4524281183b2"
   },
   "outputs": [],
   "source": [
    "plot_mse(history.history)\n",
    "plot_loss(history.history)"
   ]
  },
  {
   "cell_type": "markdown",
   "metadata": {},
   "source": [
    "### Saving the model"
   ]
  },
  {
   "cell_type": "code",
   "execution_count": null,
   "metadata": {},
   "outputs": [],
   "source": [
    "model.save('boston_house_model.h5')"
   ]
  },
  {
   "cell_type": "markdown",
   "metadata": {
    "id": "gxhuWOVFfb2u"
   },
   "source": [
    "## Loading Model and Making Prediction"
   ]
  },
  {
   "cell_type": "code",
   "execution_count": null,
   "metadata": {
    "executionInfo": {
     "elapsed": 352,
     "status": "ok",
     "timestamp": 1682494558968,
     "user": {
      "displayName": "MANARANJAN PRADHAN",
      "userId": "03885802779803335284"
     },
     "user_tz": -330
    },
    "id": "whjXi_3gfJ2Z"
   },
   "outputs": [],
   "source": [
    "new_model = keras.models.load_model('boston_house_model.h5')"
   ]
  },
  {
   "cell_type": "code",
   "execution_count": null,
   "metadata": {
    "colab": {
     "base_uri": "https://localhost:8080/"
    },
    "executionInfo": {
     "elapsed": 3,
     "status": "ok",
     "timestamp": 1682494625583,
     "user": {
      "displayName": "MANARANJAN PRADHAN",
      "userId": "03885802779803335284"
     },
     "user_tz": -330
    },
    "id": "Yw4W8bAKfh7m",
    "outputId": "58eba561-1013-4e99-8781-2ba4ef9a14d2"
   },
   "outputs": [],
   "source": [
    "test_X[0:1]"
   ]
  },
  {
   "cell_type": "code",
   "execution_count": null,
   "metadata": {
    "colab": {
     "base_uri": "https://localhost:8080/"
    },
    "executionInfo": {
     "elapsed": 403,
     "status": "ok",
     "timestamp": 1682494651130,
     "user": {
      "displayName": "MANARANJAN PRADHAN",
      "userId": "03885802779803335284"
     },
     "user_tz": -330
    },
    "id": "0hdgTYNOfaE3",
    "outputId": "18b60590-79f9-4b74-8224-c3bd42f33905"
   },
   "outputs": [],
   "source": [
    "house_price_pred = model.predict(test_X[0:1])"
   ]
  },
  {
   "cell_type": "code",
   "execution_count": null,
   "metadata": {
    "colab": {
     "base_uri": "https://localhost:8080/"
    },
    "executionInfo": {
     "elapsed": 3,
     "status": "ok",
     "timestamp": 1682494678133,
     "user": {
      "displayName": "MANARANJAN PRADHAN",
      "userId": "03885802779803335284"
     },
     "user_tz": -330
    },
    "id": "7ZXYvV9hfwP0",
    "outputId": "2729bd72-021b-45ac-cbc3-61a1898bfd66"
   },
   "outputs": [],
   "source": [
    "house_price_pred[0]"
   ]
  },
  {
   "cell_type": "markdown",
   "metadata": {
    "id": "cle29KQrpUHf"
   },
   "source": [
    "The new data always need to be normalized with training data parameters (mean and standard deviation)."
   ]
  }
 ],
 "metadata": {
  "colab": {
   "provenance": []
  },
  "kernelspec": {
   "display_name": "Python 3 (ipykernel)",
   "language": "python",
   "name": "python3"
  },
  "language_info": {
   "codemirror_mode": {
    "name": "ipython",
    "version": 3
   },
   "file_extension": ".py",
   "mimetype": "text/x-python",
   "name": "python",
   "nbconvert_exporter": "python",
   "pygments_lexer": "ipython3",
   "version": "3.10.9"
  }
 },
 "nbformat": 4,
 "nbformat_minor": 1
}
