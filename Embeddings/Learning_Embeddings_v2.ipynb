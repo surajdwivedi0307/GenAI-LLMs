{
  "cells": [
    {
      "cell_type": "markdown",
      "metadata": {
        "id": "Xws2p6SgbNF-"
      },
      "source": [
        "# Learning Embeddings\n",
        "\n",
        "This tutorial will go through steps for building a deep learning model for sentiment Analysis. We will classify IMDB movie reviews as either positive or negative. This tutorial will be used for teaching during the workshop.\n",
        "\n",
        "The tutorial has taken contents from various places including the tutorial from http://www.hvass-labs.org/ for the purpose of teaching in the deep learning class.\n",
        "\n",
        "The topics addressed in the tutorial:\n",
        "\n",
        "1. Basic exploration of the IMDB movies dataset.\n",
        "2. Tokenization, text to sequences, padding and truncating\n",
        "3. Building NN Model using Bag Of Words\n",
        "4. Building NN Model using Embeddings\n",
        "5. Peeping to Word Embeddings\n",
        "\n",
        "We will be exploring mostly how to use Bag of Words and Word Embeddings vector representation of texts and build plain vanila NN models. In the future tutorials, we will explore RNN, LSTM models in the future."
      ]
    },
    {
      "cell_type": "markdown",
      "metadata": {
        "id": "ZWhTaM5CbNGF"
      },
      "source": [
        "### IMDB Movie Reviews\n",
        "\n",
        "The dataset is available at https://www.kaggle.com/c/word2vec-nlp-tutorial/data\n",
        "\n",
        "The labeled data set consists of 50,000 IMDB movie reviews, specially selected for sentiment analysis. The sentiment of reviews is binary, meaning the IMDB rating < 5 results in a sentiment score of 0, and rating >=7 have a sentiment score of 1. No individual movie has more than 30 reviews.\n",
        "\n",
        "**Data Fields**\n",
        "\n",
        "- id - Unique ID of each review\n",
        "- sentiment - Sentiment of the review; 1 for positive reviews and 0 for negative reviews\n",
        "- review - Text of the review"
      ]
    },
    {
      "cell_type": "markdown",
      "metadata": {
        "id": "hb91-UQ8bNGG"
      },
      "source": [
        "### Loading the dataset"
      ]
    },
    {
      "cell_type": "code",
      "execution_count": 1,
      "metadata": {
        "id": "cp3EZNi4bNGH"
      },
      "outputs": [],
      "source": [
        "import pandas as pd\n",
        "import numpy as np\n",
        "import matplotlib.pyplot as plt\n",
        "import seaborn as sn"
      ]
    },
    {
      "cell_type": "code",
      "execution_count": 2,
      "metadata": {
        "id": "RLE_SJJobNGJ"
      },
      "outputs": [],
      "source": [
        "reviews_df = pd.read_csv('https://raw.githubusercontent.com/manaranjanp/GenAI_LLM/main/Embeddings/reviews.zip')"
      ]
    },
    {
      "cell_type": "code",
      "execution_count": 3,
      "metadata": {
        "colab": {
          "base_uri": "https://localhost:8080/",
          "height": 466
        },
        "id": "VGRs67fWbNGJ",
        "outputId": "ed1c9f4f-ead7-466e-d360-55a2160a9095"
      },
      "outputs": [
        {
          "output_type": "execute_result",
          "data": {
            "text/plain": [
              "                                                                                                                                                                                                                                                                                                                                                                                                                                                                                                                review  \\\n",
              "0  With all this stuff going down at the moment with MJ i've started listening to his music, watching the odd documentary here and there, watched The Wiz and watched Moonwalker again. Maybe i just want to get a certain insight into this guy who i thought was really cool in the eighties just to maybe make up my mind whether he is guilty or innocent. Moonwalker is part biography, part feature film which i remember going to see at the cinema when it was originally released. Some of it has subtle m...   \n",
              "1  \\The Classic War of the Worlds\\\" by Timothy Hines is a very entertaining film that obviously goes to great effort and lengths to faithfully recreate H. G. Wells' classic book. Mr. Hines succeeds in doing so. I, and those who watched his film with me, appreciated the fact that it was not the standard, predictable Hollywood fare that comes out every year, e.g. the Spielberg version with Tom Cruise that had only the slightest resemblance to the book. Obviously, everyone looks for different thin...   \n",
              "2  The film starts with a manager (Nicholas Bell) giving welcome investors (Robert Carradine) to Primal Park . A secret project mutating a primal animal using fossilized DNA, like ¨Jurassik Park¨, and some scientists resurrect one of nature's most fearsome predators, the Sabretooth tiger or Smilodon . Scientific ambition turns deadly, however, and when the high voltage fence is opened the creature escape and begins savagely stalking its prey - the human visitors , tourists and scientific.Meanwh...   \n",
              "3  It must be assumed that those who praised this film (\\the greatest filmed opera ever,\\\" didn't I read somewhere?) either don't care for opera, don't care for Wagner, or don't care about anything except their desire to appear Cultured. Either as a representation of Wagner's swan-song, or as a movie, this strikes me as an unmitigated disaster, with a leaden reading of the score matched to a tricksy, lugubrious realisation of the text.<br /><br />It's questionable that people with ideas as to w...   \n",
              "4  Superbly trashy and wondrously unpretentious 80's exploitation, hooray! The pre-credits opening sequences somewhat give the false impression that we're dealing with a serious and harrowing drama, but you need not fear because barely ten minutes later we're up until our necks in nonsensical chainsaw battles, rough fist-fights, lurid dialogs and gratuitous nudity! Bo and Ingrid are two orphaned siblings with an unusually close and even slightly perverted relationship. Can you imagine playfully...   \n",
              "\n",
              "   sentiment  \n",
              "0          1  \n",
              "1          1  \n",
              "2          0  \n",
              "3          0  \n",
              "4          1  "
            ],
            "text/html": [
              "\n",
              "  <div id=\"df-c624e47e-7e1d-4ee7-af95-64d5806597f3\" class=\"colab-df-container\">\n",
              "    <div>\n",
              "<style scoped>\n",
              "    .dataframe tbody tr th:only-of-type {\n",
              "        vertical-align: middle;\n",
              "    }\n",
              "\n",
              "    .dataframe tbody tr th {\n",
              "        vertical-align: top;\n",
              "    }\n",
              "\n",
              "    .dataframe thead th {\n",
              "        text-align: right;\n",
              "    }\n",
              "</style>\n",
              "<table border=\"1\" class=\"dataframe\">\n",
              "  <thead>\n",
              "    <tr style=\"text-align: right;\">\n",
              "      <th></th>\n",
              "      <th>review</th>\n",
              "      <th>sentiment</th>\n",
              "    </tr>\n",
              "  </thead>\n",
              "  <tbody>\n",
              "    <tr>\n",
              "      <th>0</th>\n",
              "      <td>With all this stuff going down at the moment with MJ i've started listening to his music, watching the odd documentary here and there, watched The Wiz and watched Moonwalker again. Maybe i just want to get a certain insight into this guy who i thought was really cool in the eighties just to maybe make up my mind whether he is guilty or innocent. Moonwalker is part biography, part feature film which i remember going to see at the cinema when it was originally released. Some of it has subtle m...</td>\n",
              "      <td>1</td>\n",
              "    </tr>\n",
              "    <tr>\n",
              "      <th>1</th>\n",
              "      <td>\\The Classic War of the Worlds\\\" by Timothy Hines is a very entertaining film that obviously goes to great effort and lengths to faithfully recreate H. G. Wells' classic book. Mr. Hines succeeds in doing so. I, and those who watched his film with me, appreciated the fact that it was not the standard, predictable Hollywood fare that comes out every year, e.g. the Spielberg version with Tom Cruise that had only the slightest resemblance to the book. Obviously, everyone looks for different thin...</td>\n",
              "      <td>1</td>\n",
              "    </tr>\n",
              "    <tr>\n",
              "      <th>2</th>\n",
              "      <td>The film starts with a manager (Nicholas Bell) giving welcome investors (Robert Carradine) to Primal Park . A secret project mutating a primal animal using fossilized DNA, like ¨Jurassik Park¨, and some scientists resurrect one of nature's most fearsome predators, the Sabretooth tiger or Smilodon . Scientific ambition turns deadly, however, and when the high voltage fence is opened the creature escape and begins savagely stalking its prey - the human visitors , tourists and scientific.Meanwh...</td>\n",
              "      <td>0</td>\n",
              "    </tr>\n",
              "    <tr>\n",
              "      <th>3</th>\n",
              "      <td>It must be assumed that those who praised this film (\\the greatest filmed opera ever,\\\" didn't I read somewhere?) either don't care for opera, don't care for Wagner, or don't care about anything except their desire to appear Cultured. Either as a representation of Wagner's swan-song, or as a movie, this strikes me as an unmitigated disaster, with a leaden reading of the score matched to a tricksy, lugubrious realisation of the text.&lt;br /&gt;&lt;br /&gt;It's questionable that people with ideas as to w...</td>\n",
              "      <td>0</td>\n",
              "    </tr>\n",
              "    <tr>\n",
              "      <th>4</th>\n",
              "      <td>Superbly trashy and wondrously unpretentious 80's exploitation, hooray! The pre-credits opening sequences somewhat give the false impression that we're dealing with a serious and harrowing drama, but you need not fear because barely ten minutes later we're up until our necks in nonsensical chainsaw battles, rough fist-fights, lurid dialogs and gratuitous nudity! Bo and Ingrid are two orphaned siblings with an unusually close and even slightly perverted relationship. Can you imagine playfully...</td>\n",
              "      <td>1</td>\n",
              "    </tr>\n",
              "  </tbody>\n",
              "</table>\n",
              "</div>\n",
              "    <div class=\"colab-df-buttons\">\n",
              "\n",
              "  <div class=\"colab-df-container\">\n",
              "    <button class=\"colab-df-convert\" onclick=\"convertToInteractive('df-c624e47e-7e1d-4ee7-af95-64d5806597f3')\"\n",
              "            title=\"Convert this dataframe to an interactive table.\"\n",
              "            style=\"display:none;\">\n",
              "\n",
              "  <svg xmlns=\"http://www.w3.org/2000/svg\" height=\"24px\" viewBox=\"0 -960 960 960\">\n",
              "    <path d=\"M120-120v-720h720v720H120Zm60-500h600v-160H180v160Zm220 220h160v-160H400v160Zm0 220h160v-160H400v160ZM180-400h160v-160H180v160Zm440 0h160v-160H620v160ZM180-180h160v-160H180v160Zm440 0h160v-160H620v160Z\"/>\n",
              "  </svg>\n",
              "    </button>\n",
              "\n",
              "  <style>\n",
              "    .colab-df-container {\n",
              "      display:flex;\n",
              "      gap: 12px;\n",
              "    }\n",
              "\n",
              "    .colab-df-convert {\n",
              "      background-color: #E8F0FE;\n",
              "      border: none;\n",
              "      border-radius: 50%;\n",
              "      cursor: pointer;\n",
              "      display: none;\n",
              "      fill: #1967D2;\n",
              "      height: 32px;\n",
              "      padding: 0 0 0 0;\n",
              "      width: 32px;\n",
              "    }\n",
              "\n",
              "    .colab-df-convert:hover {\n",
              "      background-color: #E2EBFA;\n",
              "      box-shadow: 0px 1px 2px rgba(60, 64, 67, 0.3), 0px 1px 3px 1px rgba(60, 64, 67, 0.15);\n",
              "      fill: #174EA6;\n",
              "    }\n",
              "\n",
              "    .colab-df-buttons div {\n",
              "      margin-bottom: 4px;\n",
              "    }\n",
              "\n",
              "    [theme=dark] .colab-df-convert {\n",
              "      background-color: #3B4455;\n",
              "      fill: #D2E3FC;\n",
              "    }\n",
              "\n",
              "    [theme=dark] .colab-df-convert:hover {\n",
              "      background-color: #434B5C;\n",
              "      box-shadow: 0px 1px 3px 1px rgba(0, 0, 0, 0.15);\n",
              "      filter: drop-shadow(0px 1px 2px rgba(0, 0, 0, 0.3));\n",
              "      fill: #FFFFFF;\n",
              "    }\n",
              "  </style>\n",
              "\n",
              "    <script>\n",
              "      const buttonEl =\n",
              "        document.querySelector('#df-c624e47e-7e1d-4ee7-af95-64d5806597f3 button.colab-df-convert');\n",
              "      buttonEl.style.display =\n",
              "        google.colab.kernel.accessAllowed ? 'block' : 'none';\n",
              "\n",
              "      async function convertToInteractive(key) {\n",
              "        const element = document.querySelector('#df-c624e47e-7e1d-4ee7-af95-64d5806597f3');\n",
              "        const dataTable =\n",
              "          await google.colab.kernel.invokeFunction('convertToInteractive',\n",
              "                                                    [key], {});\n",
              "        if (!dataTable) return;\n",
              "\n",
              "        const docLinkHtml = 'Like what you see? Visit the ' +\n",
              "          '<a target=\"_blank\" href=https://colab.research.google.com/notebooks/data_table.ipynb>data table notebook</a>'\n",
              "          + ' to learn more about interactive tables.';\n",
              "        element.innerHTML = '';\n",
              "        dataTable['output_type'] = 'display_data';\n",
              "        await google.colab.output.renderOutput(dataTable, element);\n",
              "        const docLink = document.createElement('div');\n",
              "        docLink.innerHTML = docLinkHtml;\n",
              "        element.appendChild(docLink);\n",
              "      }\n",
              "    </script>\n",
              "  </div>\n",
              "\n",
              "\n",
              "<div id=\"df-8065b97d-cd45-4c22-90dd-e1273a03476f\">\n",
              "  <button class=\"colab-df-quickchart\" onclick=\"quickchart('df-8065b97d-cd45-4c22-90dd-e1273a03476f')\"\n",
              "            title=\"Suggest charts\"\n",
              "            style=\"display:none;\">\n",
              "\n",
              "<svg xmlns=\"http://www.w3.org/2000/svg\" height=\"24px\"viewBox=\"0 0 24 24\"\n",
              "     width=\"24px\">\n",
              "    <g>\n",
              "        <path d=\"M19 3H5c-1.1 0-2 .9-2 2v14c0 1.1.9 2 2 2h14c1.1 0 2-.9 2-2V5c0-1.1-.9-2-2-2zM9 17H7v-7h2v7zm4 0h-2V7h2v10zm4 0h-2v-4h2v4z\"/>\n",
              "    </g>\n",
              "</svg>\n",
              "  </button>\n",
              "\n",
              "<style>\n",
              "  .colab-df-quickchart {\n",
              "      --bg-color: #E8F0FE;\n",
              "      --fill-color: #1967D2;\n",
              "      --hover-bg-color: #E2EBFA;\n",
              "      --hover-fill-color: #174EA6;\n",
              "      --disabled-fill-color: #AAA;\n",
              "      --disabled-bg-color: #DDD;\n",
              "  }\n",
              "\n",
              "  [theme=dark] .colab-df-quickchart {\n",
              "      --bg-color: #3B4455;\n",
              "      --fill-color: #D2E3FC;\n",
              "      --hover-bg-color: #434B5C;\n",
              "      --hover-fill-color: #FFFFFF;\n",
              "      --disabled-bg-color: #3B4455;\n",
              "      --disabled-fill-color: #666;\n",
              "  }\n",
              "\n",
              "  .colab-df-quickchart {\n",
              "    background-color: var(--bg-color);\n",
              "    border: none;\n",
              "    border-radius: 50%;\n",
              "    cursor: pointer;\n",
              "    display: none;\n",
              "    fill: var(--fill-color);\n",
              "    height: 32px;\n",
              "    padding: 0;\n",
              "    width: 32px;\n",
              "  }\n",
              "\n",
              "  .colab-df-quickchart:hover {\n",
              "    background-color: var(--hover-bg-color);\n",
              "    box-shadow: 0 1px 2px rgba(60, 64, 67, 0.3), 0 1px 3px 1px rgba(60, 64, 67, 0.15);\n",
              "    fill: var(--button-hover-fill-color);\n",
              "  }\n",
              "\n",
              "  .colab-df-quickchart-complete:disabled,\n",
              "  .colab-df-quickchart-complete:disabled:hover {\n",
              "    background-color: var(--disabled-bg-color);\n",
              "    fill: var(--disabled-fill-color);\n",
              "    box-shadow: none;\n",
              "  }\n",
              "\n",
              "  .colab-df-spinner {\n",
              "    border: 2px solid var(--fill-color);\n",
              "    border-color: transparent;\n",
              "    border-bottom-color: var(--fill-color);\n",
              "    animation:\n",
              "      spin 1s steps(1) infinite;\n",
              "  }\n",
              "\n",
              "  @keyframes spin {\n",
              "    0% {\n",
              "      border-color: transparent;\n",
              "      border-bottom-color: var(--fill-color);\n",
              "      border-left-color: var(--fill-color);\n",
              "    }\n",
              "    20% {\n",
              "      border-color: transparent;\n",
              "      border-left-color: var(--fill-color);\n",
              "      border-top-color: var(--fill-color);\n",
              "    }\n",
              "    30% {\n",
              "      border-color: transparent;\n",
              "      border-left-color: var(--fill-color);\n",
              "      border-top-color: var(--fill-color);\n",
              "      border-right-color: var(--fill-color);\n",
              "    }\n",
              "    40% {\n",
              "      border-color: transparent;\n",
              "      border-right-color: var(--fill-color);\n",
              "      border-top-color: var(--fill-color);\n",
              "    }\n",
              "    60% {\n",
              "      border-color: transparent;\n",
              "      border-right-color: var(--fill-color);\n",
              "    }\n",
              "    80% {\n",
              "      border-color: transparent;\n",
              "      border-right-color: var(--fill-color);\n",
              "      border-bottom-color: var(--fill-color);\n",
              "    }\n",
              "    90% {\n",
              "      border-color: transparent;\n",
              "      border-bottom-color: var(--fill-color);\n",
              "    }\n",
              "  }\n",
              "</style>\n",
              "\n",
              "  <script>\n",
              "    async function quickchart(key) {\n",
              "      const quickchartButtonEl =\n",
              "        document.querySelector('#' + key + ' button');\n",
              "      quickchartButtonEl.disabled = true;  // To prevent multiple clicks.\n",
              "      quickchartButtonEl.classList.add('colab-df-spinner');\n",
              "      try {\n",
              "        const charts = await google.colab.kernel.invokeFunction(\n",
              "            'suggestCharts', [key], {});\n",
              "      } catch (error) {\n",
              "        console.error('Error during call to suggestCharts:', error);\n",
              "      }\n",
              "      quickchartButtonEl.classList.remove('colab-df-spinner');\n",
              "      quickchartButtonEl.classList.add('colab-df-quickchart-complete');\n",
              "    }\n",
              "    (() => {\n",
              "      let quickchartButtonEl =\n",
              "        document.querySelector('#df-8065b97d-cd45-4c22-90dd-e1273a03476f button');\n",
              "      quickchartButtonEl.style.display =\n",
              "        google.colab.kernel.accessAllowed ? 'block' : 'none';\n",
              "    })();\n",
              "  </script>\n",
              "</div>\n",
              "    </div>\n",
              "  </div>\n"
            ]
          },
          "metadata": {},
          "execution_count": 3
        }
      ],
      "source": [
        "pd.set_option('display.max_colwidth', 500)\n",
        "reviews_df.head(5)"
      ]
    },
    {
      "cell_type": "code",
      "execution_count": 4,
      "metadata": {
        "colab": {
          "base_uri": "https://localhost:8080/"
        },
        "id": "HZbdE2WGvkU0",
        "outputId": "78c8c0d3-f292-4132-8858-48733d942253"
      },
      "outputs": [
        {
          "output_type": "stream",
          "name": "stdout",
          "text": [
            "<class 'pandas.core.frame.DataFrame'>\n",
            "RangeIndex: 25000 entries, 0 to 24999\n",
            "Data columns (total 2 columns):\n",
            " #   Column     Non-Null Count  Dtype \n",
            "---  ------     --------------  ----- \n",
            " 0   review     25000 non-null  object\n",
            " 1   sentiment  25000 non-null  int64 \n",
            "dtypes: int64(1), object(1)\n",
            "memory usage: 390.8+ KB\n"
          ]
        }
      ],
      "source": [
        "reviews_df.info()"
      ]
    },
    {
      "cell_type": "markdown",
      "metadata": {
        "id": "uFXFNPyabNGL"
      },
      "source": [
        "### Data Tokenization"
      ]
    },
    {
      "cell_type": "markdown",
      "metadata": {
        "id": "sChuq5RdbNGM"
      },
      "source": [
        "The text data need to be converted into vectors using either bag of words or embeddings model. We will first explore bag of words (BOW) model. In the BOW model, a sentence will be represented as a vector with the words (also called tokens) as dimensions of the vectors.\n",
        "\n",
        "For the purpose of creating vectors, we need to tokenize the sentences first and find out all unique tokens (words) used across all sentences. The corpus of unquie words used could very large, so we can limit the corpus of tokens by using only the most popular (frequently used) words. In this example, we will use 10000 words."
      ]
    },
    {
      "cell_type": "code",
      "execution_count": 5,
      "metadata": {
        "id": "zFabd9jBbNGN"
      },
      "outputs": [],
      "source": [
        "import tensorflow as tf\n",
        "from tensorflow import keras\n",
        "from keras.preprocessing.text import Tokenizer"
      ]
    },
    {
      "cell_type": "code",
      "execution_count": 6,
      "metadata": {
        "id": "2u7Jwdf9bNGO"
      },
      "outputs": [],
      "source": [
        "all_tokenizer = Tokenizer()"
      ]
    },
    {
      "cell_type": "code",
      "execution_count": 7,
      "metadata": {
        "id": "i-jOHMA_bNGP"
      },
      "outputs": [],
      "source": [
        "all_tokenizer.fit_on_texts( reviews_df.review )"
      ]
    },
    {
      "cell_type": "code",
      "execution_count": 8,
      "metadata": {
        "colab": {
          "base_uri": "https://localhost:8080/"
        },
        "id": "c4H3T8gSbNGQ",
        "outputId": "33e10e37-4bf4-45f2-f0c5-ba6b8ecf76e1"
      },
      "outputs": [
        {
          "output_type": "execute_result",
          "data": {
            "text/plain": [
              "25000"
            ]
          },
          "metadata": {},
          "execution_count": 8
        }
      ],
      "source": [
        "all_tokenizer.document_count"
      ]
    },
    {
      "cell_type": "code",
      "execution_count": 9,
      "metadata": {
        "colab": {
          "base_uri": "https://localhost:8080/"
        },
        "id": "66hnMeT2bNGQ",
        "outputId": "5c79a733-06ca-483d-86e3-274375f8f348"
      },
      "outputs": [
        {
          "output_type": "execute_result",
          "data": {
            "text/plain": [
              "88582"
            ]
          },
          "metadata": {},
          "execution_count": 9
        }
      ],
      "source": [
        "len(all_tokenizer.word_counts)"
      ]
    },
    {
      "cell_type": "code",
      "source": [
        "all_tokenizer.word_index['the']"
      ],
      "metadata": {
        "colab": {
          "base_uri": "https://localhost:8080/"
        },
        "id": "qYioyvJh5E7j",
        "outputId": "85969560-8d29-4b11-b2e8-01c64d1c8798"
      },
      "execution_count": 13,
      "outputs": [
        {
          "output_type": "execute_result",
          "data": {
            "text/plain": [
              "1"
            ]
          },
          "metadata": {},
          "execution_count": 13
        }
      ]
    },
    {
      "cell_type": "code",
      "source": [
        "all_tokenizer.word_index['movie']"
      ],
      "metadata": {
        "colab": {
          "base_uri": "https://localhost:8080/"
        },
        "id": "quctljzP5Kca",
        "outputId": "a05df09d-f364-488d-8b9a-0e45d9acf29f"
      },
      "execution_count": 14,
      "outputs": [
        {
          "output_type": "execute_result",
          "data": {
            "text/plain": [
              "17"
            ]
          },
          "metadata": {},
          "execution_count": 14
        }
      ]
    },
    {
      "cell_type": "code",
      "source": [
        "all_tokenizer.texts_to_sequences( [\"The movie gladiator is a brilliant movie\"])"
      ],
      "metadata": {
        "colab": {
          "base_uri": "https://localhost:8080/"
        },
        "id": "WSJNhgRE4pKb",
        "outputId": "cfdb833b-c51f-4568-bf88-4606ed9b5b51"
      },
      "execution_count": 10,
      "outputs": [
        {
          "output_type": "execute_result",
          "data": {
            "text/plain": [
              "[[1, 17, 8623, 6, 3, 526, 17]]"
            ]
          },
          "metadata": {},
          "execution_count": 10
        }
      ]
    },
    {
      "cell_type": "markdown",
      "metadata": {
        "id": "I7xrMuCVbNGR"
      },
      "source": [
        "There are 25000 documents (reviews) and 88582 unique words."
      ]
    },
    {
      "cell_type": "markdown",
      "metadata": {
        "id": "NRiVQh2tbNGU"
      },
      "source": [
        "We can assume the low frequencey words are rarely used to express sentiments as they have appeared only once across all reviews. And only choose to keep top N (for example 10000) words for our analysis. So, let's tokenize agains with a limit to number of words to 10000."
      ]
    },
    {
      "cell_type": "code",
      "execution_count": 15,
      "metadata": {
        "id": "QB_H6vyibNGU"
      },
      "outputs": [],
      "source": [
        "max_num_tokens = 10000"
      ]
    },
    {
      "cell_type": "code",
      "execution_count": 16,
      "metadata": {
        "id": "oxelv5NdbNGh"
      },
      "outputs": [],
      "source": [
        "max_review_length = 500"
      ]
    },
    {
      "cell_type": "markdown",
      "metadata": {
        "id": "StlsXkXSbNGi"
      },
      "source": [
        "How many sentences will not be truncated at all?"
      ]
    },
    {
      "cell_type": "markdown",
      "metadata": {
        "id": "DqIzmu4_bNGi"
      },
      "source": [
        "Now we will pad or truncate. But padding or truncating can be done at the beginning of the sentence or at the end of the sentences. *pre* or *post* can be used to specify the padding and truncating the beginning or end of sentence."
      ]
    },
    {
      "cell_type": "code",
      "execution_count": 17,
      "metadata": {
        "id": "Wht9SNbQsNX_"
      },
      "outputs": [],
      "source": [
        "from keras.layers import TextVectorization"
      ]
    },
    {
      "cell_type": "code",
      "execution_count": 18,
      "metadata": {
        "id": "Z24TwEJ_bNGj"
      },
      "outputs": [],
      "source": [
        "vectorize_layer = TextVectorization(max_tokens = max_num_tokens,\n",
        "                                    output_mode='int',\n",
        "                                    output_sequence_length = max_review_length,\n",
        "                                    standardize='lower_and_strip_punctuation',\n",
        "                                    split='whitespace')"
      ]
    },
    {
      "cell_type": "code",
      "execution_count": 19,
      "metadata": {
        "id": "VD4KUlEuszDS"
      },
      "outputs": [],
      "source": [
        "text_dataset = tf.data.Dataset.from_tensor_slices(list(reviews_df.review))"
      ]
    },
    {
      "cell_type": "code",
      "execution_count": 20,
      "metadata": {
        "id": "Wj15Jrhushl7"
      },
      "outputs": [],
      "source": [
        "vectorize_layer.adapt(text_dataset.batch(64))"
      ]
    },
    {
      "cell_type": "code",
      "execution_count": 21,
      "metadata": {
        "colab": {
          "base_uri": "https://localhost:8080/"
        },
        "id": "I346GV1YbNGj",
        "outputId": "e6ef19fc-301e-44c3-9468-9b3d49e476cb"
      },
      "outputs": [
        {
          "output_type": "execute_result",
          "data": {
            "text/plain": [
              "['', '[UNK]', 'the', 'and', 'a', 'of', 'to', 'is', 'in', 'it']"
            ]
          },
          "metadata": {},
          "execution_count": 21
        }
      ],
      "source": [
        "vectorize_layer.get_vocabulary()[0:10]"
      ]
    },
    {
      "cell_type": "markdown",
      "metadata": {
        "id": "NPYtrILXbNGk"
      },
      "source": [
        "### Split Datasets"
      ]
    },
    {
      "cell_type": "code",
      "execution_count": 23,
      "metadata": {
        "id": "XFM0pgKpbNGk"
      },
      "outputs": [],
      "source": [
        "from sklearn.model_selection import train_test_split"
      ]
    },
    {
      "cell_type": "code",
      "execution_count": 24,
      "metadata": {
        "id": "_4NNXJpbbNGk"
      },
      "outputs": [],
      "source": [
        "X_train, X_test, y_train, y_test = train_test_split(reviews_df.review,\n",
        "                                                    reviews_df.sentiment,\n",
        "                                                    test_size = 0.2)"
      ]
    },
    {
      "cell_type": "code",
      "execution_count": 25,
      "metadata": {
        "colab": {
          "base_uri": "https://localhost:8080/"
        },
        "id": "Xe-yzMaPbNGl",
        "outputId": "a65102b1-39b5-4235-8b4f-9fdd2aa4e3b1"
      },
      "outputs": [
        {
          "output_type": "execute_result",
          "data": {
            "text/plain": [
              "(20000,)"
            ]
          },
          "metadata": {},
          "execution_count": 25
        }
      ],
      "source": [
        "X_train.shape"
      ]
    },
    {
      "cell_type": "code",
      "execution_count": 26,
      "metadata": {
        "colab": {
          "base_uri": "https://localhost:8080/"
        },
        "id": "0GLjMTx3bNGl",
        "outputId": "aaf82901-6746-4fb7-ff32-a77da3329552"
      },
      "outputs": [
        {
          "output_type": "execute_result",
          "data": {
            "text/plain": [
              "(5000,)"
            ]
          },
          "metadata": {},
          "execution_count": 26
        }
      ],
      "source": [
        "X_test.shape"
      ]
    },
    {
      "cell_type": "code",
      "execution_count": 27,
      "metadata": {
        "id": "_ddvUY_jbNGl"
      },
      "outputs": [],
      "source": [
        "input_shape = X_train.shape"
      ]
    },
    {
      "cell_type": "code",
      "execution_count": 28,
      "metadata": {
        "colab": {
          "base_uri": "https://localhost:8080/"
        },
        "id": "dnV61_CxbNGl",
        "outputId": "09a854d6-d102-489e-b39f-4c2698c4c37f"
      },
      "outputs": [
        {
          "output_type": "execute_result",
          "data": {
            "text/plain": [
              "(20000,)"
            ]
          },
          "metadata": {},
          "execution_count": 28
        }
      ],
      "source": [
        "input_shape"
      ]
    },
    {
      "cell_type": "markdown",
      "metadata": {
        "id": "vwPwPOT3bNGo"
      },
      "source": [
        "### Using Embeddings\n",
        "\n",
        "In Word embeddings, words are represented by a vector i.e. series of numbers (weights). The vectors represent words in a N dimension space, in which similar meaning words are places nearer to each other while the dissimilar words are kept far. The dimensions in the space represent some latent factors, by which the words could be defined. All words are assigned some weights in each each latent factors. Words that share some common meaning have similar weights across common factors.\n",
        "\n",
        "The word embeddings weights can be estimated during the NN model building. There are also pre-built word embeddings are available, which can be used in the model. We will discuss about the pre-built word embeddings later in the tutorial.\n",
        "\n",
        "Word embeddings are commonly used in many Natural Language Processing (NLP) tasks because they are found to be useful representations of words and often lead to better performance in the various tasks performed. Given its widespread use, this post seeks to introduce the concept of word embeddings to the prospective NLP practitioner.\n",
        "\n",
        "Here are couple of good references to understand embeddings\n",
        "\n",
        "https://medium.com/huggingface/universal-word-sentence-embeddings-ce48ddc8fc3a\n",
        "\n",
        "(Bag of words) -> Embeddings (8) -> Dense Layer(16) ->  Relu -> Dense Layer(1) -> Sigmoid"
      ]
    },
    {
      "cell_type": "code",
      "execution_count": 33,
      "metadata": {
        "id": "IEqDhGohbNGo"
      },
      "outputs": [],
      "source": [
        "from keras import Sequential\n",
        "from keras.layers import Embedding, Flatten, Activation, Dense\n",
        "from keras.optimizers import SGD"
      ]
    },
    {
      "cell_type": "code",
      "execution_count": 39,
      "metadata": {
        "id": "22K2lF8XbNGo"
      },
      "outputs": [],
      "source": [
        "keras.backend.clear_session()  # clear default graph\n",
        "\n",
        "emb_model = Sequential()\n",
        "emb_model.add(tf.keras.Input(shape=(1,), dtype=tf.string))\n",
        "emb_model.add(vectorize_layer)\n",
        "# We specify the maximum input length to our Embedding layer\n",
        "# so we can later flatten the embedded inputs\n",
        "emb_model.add(Embedding(max_num_tokens, 8, input_length=max_review_length, name='layer_embedding'))\n",
        "# After the Embedding layer,\n",
        "# our activations have shape `(samples, maxlen, 8)`.\n",
        "\n",
        "# We flatten the 3D tensor of embeddings\n",
        "# into a 2D tensor of shape `(samples, maxlen * 8)`\n",
        "emb_model.add(Flatten())\n",
        "\n",
        "emb_model.add(Dense(16))\n",
        "emb_model.add(Activation('relu'))\n",
        "\n",
        "# We add the classifier on top\n",
        "emb_model.add(Dense(1))\n",
        "emb_model.add(Activation('sigmoid'))"
      ]
    },
    {
      "cell_type": "code",
      "execution_count": 40,
      "metadata": {
        "colab": {
          "base_uri": "https://localhost:8080/"
        },
        "id": "n3g03KhkbNGo",
        "outputId": "dde40f0c-619b-4261-b171-d5518ef1df36"
      },
      "outputs": [
        {
          "output_type": "stream",
          "name": "stdout",
          "text": [
            "Model: \"sequential\"\n",
            "_________________________________________________________________\n",
            " Layer (type)                Output Shape              Param #   \n",
            "=================================================================\n",
            " text_vectorization (TextVe  (None, 500)               0         \n",
            " ctorization)                                                    \n",
            "                                                                 \n",
            " layer_embedding (Embedding  (None, 500, 8)            80000     \n",
            " )                                                               \n",
            "                                                                 \n",
            " flatten (Flatten)           (None, 4000)              0         \n",
            "                                                                 \n",
            " dense (Dense)               (None, 16)                64016     \n",
            "                                                                 \n",
            " activation (Activation)     (None, 16)                0         \n",
            "                                                                 \n",
            " dense_1 (Dense)             (None, 1)                 17        \n",
            "                                                                 \n",
            " activation_1 (Activation)   (None, 1)                 0         \n",
            "                                                                 \n",
            "=================================================================\n",
            "Total params: 144033 (562.63 KB)\n",
            "Trainable params: 144033 (562.63 KB)\n",
            "Non-trainable params: 0 (0.00 Byte)\n",
            "_________________________________________________________________\n"
          ]
        }
      ],
      "source": [
        "emb_model.summary()"
      ]
    },
    {
      "cell_type": "code",
      "execution_count": 41,
      "metadata": {
        "id": "41ySXfC8bNGp"
      },
      "outputs": [],
      "source": [
        "sgd = SGD(learning_rate=0.01, momentum=0.8)"
      ]
    },
    {
      "cell_type": "code",
      "execution_count": 42,
      "metadata": {
        "id": "eDM7boSKg2oE"
      },
      "outputs": [],
      "source": [
        "emb_model.compile(optimizer=sgd,\n",
        "              loss='binary_crossentropy',\n",
        "              metrics=['accuracy'])"
      ]
    },
    {
      "cell_type": "code",
      "execution_count": 43,
      "metadata": {
        "colab": {
          "base_uri": "https://localhost:8080/"
        },
        "id": "vwicElFTg4A8",
        "outputId": "a5a76f21-bd2f-40b7-cfda-77669da5256a"
      },
      "outputs": [
        {
          "output_type": "stream",
          "name": "stdout",
          "text": [
            "Epoch 1/20\n",
            "438/438 [==============================] - 34s 69ms/step - loss: 0.6931 - accuracy: 0.5021 - val_loss: 0.6932 - val_accuracy: 0.5032\n",
            "Epoch 2/20\n",
            "438/438 [==============================] - 17s 38ms/step - loss: 0.6922 - accuracy: 0.5193 - val_loss: 0.6929 - val_accuracy: 0.5010\n",
            "Epoch 3/20\n",
            "438/438 [==============================] - 12s 28ms/step - loss: 0.6908 - accuracy: 0.5287 - val_loss: 0.6922 - val_accuracy: 0.5197\n",
            "Epoch 4/20\n",
            "438/438 [==============================] - 8s 18ms/step - loss: 0.6892 - accuracy: 0.5312 - val_loss: 0.6911 - val_accuracy: 0.5257\n",
            "Epoch 5/20\n",
            "438/438 [==============================] - 6s 13ms/step - loss: 0.6854 - accuracy: 0.5584 - val_loss: 0.6881 - val_accuracy: 0.5528\n",
            "Epoch 6/20\n",
            "438/438 [==============================] - 5s 12ms/step - loss: 0.6727 - accuracy: 0.5956 - val_loss: 0.6719 - val_accuracy: 0.5893\n",
            "Epoch 7/20\n",
            "438/438 [==============================] - 6s 13ms/step - loss: 0.6319 - accuracy: 0.6625 - val_loss: 0.6215 - val_accuracy: 0.6575\n",
            "Epoch 8/20\n",
            "438/438 [==============================] - 4s 10ms/step - loss: 0.5687 - accuracy: 0.7107 - val_loss: 0.5651 - val_accuracy: 0.7115\n",
            "Epoch 9/20\n",
            "438/438 [==============================] - 6s 14ms/step - loss: 0.4986 - accuracy: 0.7627 - val_loss: 0.5174 - val_accuracy: 0.7448\n",
            "Epoch 10/20\n",
            "438/438 [==============================] - 5s 11ms/step - loss: 0.4355 - accuracy: 0.8006 - val_loss: 0.4925 - val_accuracy: 0.7652\n",
            "Epoch 11/20\n",
            "438/438 [==============================] - 5s 11ms/step - loss: 0.3816 - accuracy: 0.8337 - val_loss: 0.5080 - val_accuracy: 0.7605\n",
            "Epoch 12/20\n",
            "438/438 [==============================] - 5s 11ms/step - loss: 0.3353 - accuracy: 0.8560 - val_loss: 0.5014 - val_accuracy: 0.7605\n",
            "Epoch 13/20\n",
            "438/438 [==============================] - 4s 9ms/step - loss: 0.2955 - accuracy: 0.8751 - val_loss: 0.5027 - val_accuracy: 0.7777\n",
            "Epoch 14/20\n",
            "438/438 [==============================] - 4s 10ms/step - loss: 0.2578 - accuracy: 0.8986 - val_loss: 0.5164 - val_accuracy: 0.7713\n",
            "Epoch 15/20\n",
            "438/438 [==============================] - 4s 10ms/step - loss: 0.2422 - accuracy: 0.9064 - val_loss: 0.5027 - val_accuracy: 0.7948\n",
            "Epoch 16/20\n",
            "438/438 [==============================] - 4s 8ms/step - loss: 0.2010 - accuracy: 0.9231 - val_loss: 0.5254 - val_accuracy: 0.7968\n",
            "Epoch 17/20\n",
            "438/438 [==============================] - 3s 8ms/step - loss: 0.1756 - accuracy: 0.9361 - val_loss: 0.5473 - val_accuracy: 0.7923\n",
            "Epoch 18/20\n",
            "438/438 [==============================] - 5s 11ms/step - loss: 0.1589 - accuracy: 0.9439 - val_loss: 0.5810 - val_accuracy: 0.7880\n",
            "Epoch 19/20\n",
            "438/438 [==============================] - 4s 9ms/step - loss: 0.1305 - accuracy: 0.9578 - val_loss: 0.6188 - val_accuracy: 0.7858\n",
            "Epoch 20/20\n",
            "438/438 [==============================] - 4s 10ms/step - loss: 0.1095 - accuracy: 0.9661 - val_loss: 0.6343 - val_accuracy: 0.7845\n"
          ]
        }
      ],
      "source": [
        "emb_history = emb_model.fit(X_train,\n",
        "                            y_train,\n",
        "                            epochs=10,\n",
        "                            batch_size=32,\n",
        "                            validation_split=0.3)"
      ]
    },
    {
      "cell_type": "code",
      "execution_count": 44,
      "metadata": {
        "id": "i-4CoHscbNGp"
      },
      "outputs": [],
      "source": [
        "def plot_accuracy(hist):\n",
        "    plt.plot(hist['accuracy'])\n",
        "    plt.plot(hist['val_accuracy'])\n",
        "    plt.title('model accuracy')\n",
        "    plt.ylabel('accuracy')\n",
        "    plt.xlabel('epoch')\n",
        "    plt.legend(['train',\n",
        "                'test'],\n",
        "               loc='upper left')\n",
        "    plt.show()\n",
        "\n",
        "def plot_loss(hist):\n",
        "    plt.plot(hist['loss'])\n",
        "    plt.plot(hist['val_loss'])\n",
        "    plt.title('model loss')\n",
        "    plt.ylabel('loss')\n",
        "    plt.xlabel('epoch')\n",
        "    plt.legend(['train',\n",
        "                'test'],\n",
        "               loc='upper left')\n",
        "    plt.show()"
      ]
    },
    {
      "cell_type": "code",
      "execution_count": 45,
      "metadata": {
        "colab": {
          "base_uri": "https://localhost:8080/",
          "height": 472
        },
        "id": "fTd596XpbNGq",
        "outputId": "ea302b3e-167d-4fb3-a54b-d8b1fde3cffa"
      },
      "outputs": [
        {
          "output_type": "display_data",
          "data": {
            "text/plain": [
              "<Figure size 640x480 with 1 Axes>"
            ],
            "image/png": "[encoded data removed]"
          },
          "metadata": {}
        }
      ],
      "source": [
        "plot_accuracy( emb_history.history )"
      ]
    },
    {
      "cell_type": "code",
      "execution_count": 46,
      "metadata": {
        "colab": {
          "base_uri": "https://localhost:8080/",
          "height": 472
        },
        "id": "R7lgkKwybNGq",
        "outputId": "af0b64bd-931a-4e75-a17e-4681c000cc7a"
      },
      "outputs": [
        {
          "output_type": "display_data",
          "data": {
            "text/plain": [
              "<Figure size 640x480 with 1 Axes>"
            ],
            "image/png": "[encoded data removed]"
          },
          "metadata": {}
        }
      ],
      "source": [
        "plot_loss( emb_history.history )"
      ]
    },
    {
      "cell_type": "markdown",
      "metadata": {
        "id": "iWIZ2q1obNGr"
      },
      "source": [
        "#### Conclusion:\n",
        "\n",
        "The model is overfitting. The training accuracy is about 98%, whereas the validation accuracy is 80%."
      ]
    },
    {
      "cell_type": "markdown",
      "metadata": {
        "id": "h8nIMReBbNG0"
      },
      "source": [
        "### Peeping into Embeddings"
      ]
    },
    {
      "cell_type": "markdown",
      "metadata": {
        "id": "k2IF1oUSbNG0"
      },
      "source": [
        "We will look at the embeddings estimated for different words and if they are placed neared or far as per their meaning."
      ]
    },
    {
      "cell_type": "code",
      "execution_count": 47,
      "metadata": {
        "id": "5eZrtVIDbNG1"
      },
      "outputs": [],
      "source": [
        "layer_embedding = emb_model.get_layer('layer_embedding')"
      ]
    },
    {
      "cell_type": "code",
      "execution_count": 48,
      "metadata": {
        "id": "VAAQDiefbNG1"
      },
      "outputs": [],
      "source": [
        "weights_embedding = layer_embedding.get_weights()[0]"
      ]
    },
    {
      "cell_type": "code",
      "execution_count": 49,
      "metadata": {
        "colab": {
          "base_uri": "https://localhost:8080/"
        },
        "id": "zY1o7YHibNG1",
        "outputId": "48c764f0-fc28-4ff7-e4d9-80f29aadf9af"
      },
      "outputs": [
        {
          "output_type": "execute_result",
          "data": {
            "text/plain": [
              "(10000, 8)"
            ]
          },
          "metadata": {},
          "execution_count": 49
        }
      ],
      "source": [
        "weights_embedding.shape"
      ]
    },
    {
      "cell_type": "code",
      "source": [
        "vocab_list = vectorize_layer.get_vocabulary()"
      ],
      "metadata": {
        "id": "uqGB3qhQ7tDi"
      },
      "execution_count": 53,
      "outputs": []
    },
    {
      "cell_type": "code",
      "source": [
        "vocab_list.index('good')"
      ],
      "metadata": {
        "colab": {
          "base_uri": "https://localhost:8080/"
        },
        "id": "HLtjFYHS8RQt",
        "outputId": "c9151fb3-9e53-44f4-e638-d5974476de2b"
      },
      "execution_count": 54,
      "outputs": [
        {
          "output_type": "execute_result",
          "data": {
            "text/plain": [
              "50"
            ]
          },
          "metadata": {},
          "execution_count": 54
        }
      ]
    },
    {
      "cell_type": "code",
      "execution_count": 55,
      "metadata": {
        "id": "GKT4N7UgbNG1"
      },
      "outputs": [],
      "source": [
        "def get_embeddings( word ):\n",
        "    token = vocab_list.index('good')\n",
        "    return weights_embedding[token]"
      ]
    },
    {
      "cell_type": "code",
      "execution_count": 56,
      "metadata": {
        "colab": {
          "base_uri": "https://localhost:8080/"
        },
        "id": "bp_dXCnLbNG2",
        "outputId": "fd966ad2-ff86-4ced-8618-de34c3632b0c"
      },
      "outputs": [
        {
          "output_type": "execute_result",
          "data": {
            "text/plain": [
              "array([ 0.02494001, -0.02870356, -0.04132547, -0.28264898, -0.02343316,\n",
              "       -0.09254625,  0.04335956, -0.12517598], dtype=float32)"
            ]
          },
          "metadata": {},
          "execution_count": 56
        }
      ],
      "source": [
        "good = get_embeddings('good')\n",
        "good"
      ]
    },
    {
      "cell_type": "code",
      "execution_count": 57,
      "metadata": {
        "colab": {
          "base_uri": "https://localhost:8080/"
        },
        "id": "OX8A8E_sbNG2",
        "outputId": "75c1710c-6747-41f9-a5f0-be9e611f091f"
      },
      "outputs": [
        {
          "output_type": "execute_result",
          "data": {
            "text/plain": [
              "array([ 0.02494001, -0.02870356, -0.04132547, -0.28264898, -0.02343316,\n",
              "       -0.09254625,  0.04335956, -0.12517598], dtype=float32)"
            ]
          },
          "metadata": {},
          "execution_count": 57
        }
      ],
      "source": [
        "great = get_embeddings('great')\n",
        "great"
      ]
    },
    {
      "cell_type": "code",
      "execution_count": 58,
      "metadata": {
        "colab": {
          "base_uri": "https://localhost:8080/"
        },
        "id": "HBXOz72mbNG2",
        "outputId": "855367ff-b4f1-4933-f042-997a7b6b0d7c"
      },
      "outputs": [
        {
          "output_type": "execute_result",
          "data": {
            "text/plain": [
              "array([ 0.02494001, -0.02870356, -0.04132547, -0.28264898, -0.02343316,\n",
              "       -0.09254625,  0.04335956, -0.12517598], dtype=float32)"
            ]
          },
          "metadata": {},
          "execution_count": 58
        }
      ],
      "source": [
        "bad = get_embeddings('bad')\n",
        "bad"
      ]
    },
    {
      "cell_type": "code",
      "execution_count": 59,
      "metadata": {
        "colab": {
          "base_uri": "https://localhost:8080/"
        },
        "id": "1M1lVQ9QbNG2",
        "outputId": "a9ae6331-3a0a-463f-bdb4-09b44c5daccc"
      },
      "outputs": [
        {
          "output_type": "execute_result",
          "data": {
            "text/plain": [
              "array([ 0.02494001, -0.02870356, -0.04132547, -0.28264898, -0.02343316,\n",
              "       -0.09254625,  0.04335956, -0.12517598], dtype=float32)"
            ]
          },
          "metadata": {},
          "execution_count": 59
        }
      ],
      "source": [
        "terrible = get_embeddings('terrible')\n",
        "terrible"
      ]
    },
    {
      "cell_type": "markdown",
      "metadata": {
        "id": "fJTsCWbRbNG3"
      },
      "source": [
        "We will calculate the euclidean distance between the word embeddings."
      ]
    },
    {
      "cell_type": "code",
      "execution_count": 60,
      "metadata": {
        "id": "PlUAIsaQbNG3"
      },
      "outputs": [],
      "source": [
        "from scipy.spatial.distance import cdist"
      ]
    },
    {
      "cell_type": "code",
      "execution_count": 63,
      "metadata": {
        "id": "Ta0bELBUbNG3"
      },
      "outputs": [],
      "source": [
        "def get_distance( word1, word2 ):\n",
        "\n",
        "    word1_token = vocab_list.index(word1)\n",
        "    word2_token = vocab_list.index(word2)\n",
        "\n",
        "    return cdist([weights_embedding[word1_token]],\n",
        "                 [weights_embedding[word2_token]],\n",
        "                 metric = 'euclidean')"
      ]
    },
    {
      "cell_type": "code",
      "execution_count": 64,
      "metadata": {
        "colab": {
          "base_uri": "https://localhost:8080/"
        },
        "id": "scxQLoi5bNG3",
        "outputId": "c1b5c59c-eff5-4e80-b051-23b21faae6fe"
      },
      "outputs": [
        {
          "output_type": "execute_result",
          "data": {
            "text/plain": [
              "array([[0.38592105]])"
            ]
          },
          "metadata": {},
          "execution_count": 64
        }
      ],
      "source": [
        "get_distance( 'good',\n",
        "             'awesome' )"
      ]
    },
    {
      "cell_type": "code",
      "execution_count": 65,
      "metadata": {
        "colab": {
          "base_uri": "https://localhost:8080/"
        },
        "id": "dstcHCGIbNG4",
        "outputId": "d3fff84b-1d82-4ddc-be2e-01fdfad1e12d"
      },
      "outputs": [
        {
          "output_type": "execute_result",
          "data": {
            "text/plain": [
              "array([[0.88495584]])"
            ]
          },
          "metadata": {},
          "execution_count": 65
        }
      ],
      "source": [
        "get_distance( 'good', 'bad' )"
      ]
    },
    {
      "cell_type": "code",
      "execution_count": 66,
      "metadata": {
        "colab": {
          "base_uri": "https://localhost:8080/"
        },
        "id": "_HBK7zi6bNG4",
        "outputId": "47ae1887-b73b-4f83-cc62-a4d3337bbac8"
      },
      "outputs": [
        {
          "output_type": "execute_result",
          "data": {
            "text/plain": [
              "array([[0.18731015]])"
            ]
          },
          "metadata": {},
          "execution_count": 66
        }
      ],
      "source": [
        "get_distance( 'bad', 'terrible' )"
      ]
    },
    {
      "cell_type": "code",
      "execution_count": 67,
      "metadata": {
        "colab": {
          "base_uri": "https://localhost:8080/"
        },
        "id": "mxsWImAnbNG5",
        "outputId": "702151d0-fee0-4b6b-d824-a7bcf7a87894"
      },
      "outputs": [
        {
          "output_type": "execute_result",
          "data": {
            "text/plain": [
              "array([[1.07546224]])"
            ]
          },
          "metadata": {},
          "execution_count": 67
        }
      ],
      "source": [
        "get_distance( 'great', 'terrible' )"
      ]
    },
    {
      "cell_type": "code",
      "source": [
        "get_distance( 'awesome', 'terrible' )"
      ],
      "metadata": {
        "colab": {
          "base_uri": "https://localhost:8080/"
        },
        "id": "C-gS81IrHRBe",
        "outputId": "40c11f9d-6b5f-48c2-e76a-dc2b189c1557"
      },
      "execution_count": 68,
      "outputs": [
        {
          "output_type": "execute_result",
          "data": {
            "text/plain": [
              "array([[0.86302145]])"
            ]
          },
          "metadata": {},
          "execution_count": 68
        }
      ]
    },
    {
      "cell_type": "markdown",
      "metadata": {
        "id": "jzBygz6vbNG5"
      },
      "source": [
        "It can be observed that the words *good* and *great* are places together, while *bad* and *terrible* are place together. And the words *good* and *terrible* are place far. This indicates the embeddings have incorporated the meaning of the words as per how they are used in the sentences expressing positive and negative sentiments."
      ]
    },
    {
      "cell_type": "markdown",
      "metadata": {
        "id": "6sjQ8GMqbNG5"
      },
      "source": [
        "Some more examples expressing sentiments."
      ]
    },
    {
      "cell_type": "markdown",
      "metadata": {
        "id": "B58kMigq3qnr"
      },
      "source": [
        "### Participant Exercise: 1\n",
        "\n",
        "- Build a model with an embedding layer of 16 or 32\n",
        "- Add one more dense layer\n",
        "- Change the number of neurons in dense layer\n",
        "- Build a model and check accuracy\n",
        "\n",
        "\n",
        "### Participant Exercise: 2\n",
        "\n",
        "- Explore words, their embeddings and distances between them."
      ]
    },
    {
      "cell_type": "markdown",
      "metadata": {
        "collapsed": true,
        "id": "ZUywYW9tbNHA"
      },
      "source": [
        "## Excellent References\n",
        "\n",
        "For further exploration and better understanding, you can use the following references.\n",
        "\n",
        "- Glossary of Deep Learning: Word Embedding\n",
        "\n",
        "    https://medium.com/deeper-learning/glossary-of-deep-learning-word-embedding-f90c3cec34ca\n",
        "\n",
        "\n",
        "- wevi: word embedding visual inspector\n",
        "\n",
        "    https://ronxin.github.io/wevi/  \n",
        "    \n",
        "    \n",
        "- Learning Word Embedding    \n",
        "\n",
        "    https://lilianweng.github.io/lil-log/2017/10/15/learning-word-embedding.html\n",
        "\n",
        "\n",
        "- On the contribution of neural networks and word embeddings in Natural Language Processing\n",
        "\n",
        "    https://medium.com/@josecamachocollados/on-the-contribution-of-neural-networks-and-word-embeddings-in-natural-language-processing-c8bb1b85c61c"
      ]
    }
  ],
  "metadata": {
    "accelerator": "GPU",
    "colab": {
      "provenance": []
    },
    "gpuClass": "standard",
    "kernelspec": {
      "display_name": "Python 3 (ipykernel)",
      "language": "python",
      "name": "python3"
    },
    "language_info": {
      "codemirror_mode": {
        "name": "ipython",
        "version": 3
      },
      "file_extension": ".py",
      "mimetype": "text/x-python",
      "name": "python",
      "nbconvert_exporter": "python",
      "pygments_lexer": "ipython3",
      "version": "3.10.9"
    }
  },
  "nbformat": 4,
  "nbformat_minor": 0
}